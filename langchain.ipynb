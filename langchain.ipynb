{
  "cells": [
    {
      "cell_type": "markdown",
      "metadata": {
        "id": "view-in-github",
        "colab_type": "text"
      },
      "source": [
        "<a href=\"https://colab.research.google.com/github/sandeep-multani/machine-learning-py/blob/main/langchain.ipynb\" target=\"_parent\"><img src=\"https://colab.research.google.com/assets/colab-badge.svg\" alt=\"Open In Colab\"/></a>"
      ]
    },
    {
      "cell_type": "code",
      "execution_count": null,
      "metadata": {
        "id": "K2OMVZv4pQ1m",
        "outputId": "59ea585e-8ccb-4dec-e4da-4fefee980c72",
        "colab": {
          "base_uri": "https://localhost:8080/"
        }
      },
      "outputs": [
        {
          "output_type": "stream",
          "name": "stdout",
          "text": [
            "Collecting langchain\n",
            "  Downloading langchain-0.1.9-py3-none-any.whl (816 kB)\n",
            "\u001b[2K     \u001b[90m━━━━━━━━━━━━━━━━━━━━━━━━━━━━━━━━━━━━━━━━\u001b[0m \u001b[32m817.0/817.0 kB\u001b[0m \u001b[31m4.7 MB/s\u001b[0m eta \u001b[36m0:00:00\u001b[0m\n",
            "\u001b[?25hRequirement already satisfied: PyYAML>=5.3 in /usr/local/lib/python3.10/dist-packages (from langchain) (6.0.1)\n",
            "Requirement already satisfied: SQLAlchemy<3,>=1.4 in /usr/local/lib/python3.10/dist-packages (from langchain) (2.0.27)\n",
            "Requirement already satisfied: aiohttp<4.0.0,>=3.8.3 in /usr/local/lib/python3.10/dist-packages (from langchain) (3.9.3)\n",
            "Requirement already satisfied: async-timeout<5.0.0,>=4.0.0 in /usr/local/lib/python3.10/dist-packages (from langchain) (4.0.3)\n",
            "Collecting dataclasses-json<0.7,>=0.5.7 (from langchain)\n",
            "  Downloading dataclasses_json-0.6.4-py3-none-any.whl (28 kB)\n",
            "Collecting jsonpatch<2.0,>=1.33 (from langchain)\n",
            "  Downloading jsonpatch-1.33-py2.py3-none-any.whl (12 kB)\n",
            "Collecting langchain-community<0.1,>=0.0.21 (from langchain)\n",
            "  Downloading langchain_community-0.0.24-py3-none-any.whl (1.7 MB)\n",
            "\u001b[2K     \u001b[90m━━━━━━━━━━━━━━━━━━━━━━━━━━━━━━━━━━━━━━━━\u001b[0m \u001b[32m1.7/1.7 MB\u001b[0m \u001b[31m24.7 MB/s\u001b[0m eta \u001b[36m0:00:00\u001b[0m\n",
            "\u001b[?25hCollecting langchain-core<0.2,>=0.1.26 (from langchain)\n",
            "  Downloading langchain_core-0.1.27-py3-none-any.whl (250 kB)\n",
            "\u001b[2K     \u001b[90m━━━━━━━━━━━━━━━━━━━━━━━━━━━━━━━━━━━━━━━━\u001b[0m \u001b[32m250.8/250.8 kB\u001b[0m \u001b[31m16.5 MB/s\u001b[0m eta \u001b[36m0:00:00\u001b[0m\n",
            "\u001b[?25hCollecting langsmith<0.2.0,>=0.1.0 (from langchain)\n",
            "  Downloading langsmith-0.1.9-py3-none-any.whl (62 kB)\n",
            "\u001b[2K     \u001b[90m━━━━━━━━━━━━━━━━━━━━━━━━━━━━━━━━━━━━━━━━\u001b[0m \u001b[32m62.3/62.3 kB\u001b[0m \u001b[31m7.4 MB/s\u001b[0m eta \u001b[36m0:00:00\u001b[0m\n",
            "\u001b[?25hRequirement already satisfied: numpy<2,>=1 in /usr/local/lib/python3.10/dist-packages (from langchain) (1.25.2)\n",
            "Requirement already satisfied: pydantic<3,>=1 in /usr/local/lib/python3.10/dist-packages (from langchain) (2.6.1)\n",
            "Requirement already satisfied: requests<3,>=2 in /usr/local/lib/python3.10/dist-packages (from langchain) (2.31.0)\n",
            "Requirement already satisfied: tenacity<9.0.0,>=8.1.0 in /usr/local/lib/python3.10/dist-packages (from langchain) (8.2.3)\n",
            "Requirement already satisfied: aiosignal>=1.1.2 in /usr/local/lib/python3.10/dist-packages (from aiohttp<4.0.0,>=3.8.3->langchain) (1.3.1)\n",
            "Requirement already satisfied: attrs>=17.3.0 in /usr/local/lib/python3.10/dist-packages (from aiohttp<4.0.0,>=3.8.3->langchain) (23.2.0)\n",
            "Requirement already satisfied: frozenlist>=1.1.1 in /usr/local/lib/python3.10/dist-packages (from aiohttp<4.0.0,>=3.8.3->langchain) (1.4.1)\n",
            "Requirement already satisfied: multidict<7.0,>=4.5 in /usr/local/lib/python3.10/dist-packages (from aiohttp<4.0.0,>=3.8.3->langchain) (6.0.5)\n",
            "Requirement already satisfied: yarl<2.0,>=1.0 in /usr/local/lib/python3.10/dist-packages (from aiohttp<4.0.0,>=3.8.3->langchain) (1.9.4)\n",
            "Collecting marshmallow<4.0.0,>=3.18.0 (from dataclasses-json<0.7,>=0.5.7->langchain)\n",
            "  Downloading marshmallow-3.21.0-py3-none-any.whl (49 kB)\n",
            "\u001b[2K     \u001b[90m━━━━━━━━━━━━━━━━━━━━━━━━━━━━━━━━━━━━━━━━\u001b[0m \u001b[32m49.4/49.4 kB\u001b[0m \u001b[31m5.7 MB/s\u001b[0m eta \u001b[36m0:00:00\u001b[0m\n",
            "\u001b[?25hCollecting typing-inspect<1,>=0.4.0 (from dataclasses-json<0.7,>=0.5.7->langchain)\n",
            "  Downloading typing_inspect-0.9.0-py3-none-any.whl (8.8 kB)\n",
            "Collecting jsonpointer>=1.9 (from jsonpatch<2.0,>=1.33->langchain)\n",
            "  Downloading jsonpointer-2.4-py2.py3-none-any.whl (7.8 kB)\n",
            "Requirement already satisfied: anyio<5,>=3 in /usr/local/lib/python3.10/dist-packages (from langchain-core<0.2,>=0.1.26->langchain) (3.7.1)\n",
            "Requirement already satisfied: packaging<24.0,>=23.2 in /usr/local/lib/python3.10/dist-packages (from langchain-core<0.2,>=0.1.26->langchain) (23.2)\n",
            "Collecting orjson<4.0.0,>=3.9.14 (from langsmith<0.2.0,>=0.1.0->langchain)\n",
            "  Downloading orjson-3.9.15-cp310-cp310-manylinux_2_17_x86_64.manylinux2014_x86_64.whl (138 kB)\n",
            "\u001b[2K     \u001b[90m━━━━━━━━━━━━━━━━━━━━━━━━━━━━━━━━━━━━━━━━\u001b[0m \u001b[32m138.5/138.5 kB\u001b[0m \u001b[31m11.8 MB/s\u001b[0m eta \u001b[36m0:00:00\u001b[0m\n",
            "\u001b[?25hRequirement already satisfied: annotated-types>=0.4.0 in /usr/local/lib/python3.10/dist-packages (from pydantic<3,>=1->langchain) (0.6.0)\n",
            "Requirement already satisfied: pydantic-core==2.16.2 in /usr/local/lib/python3.10/dist-packages (from pydantic<3,>=1->langchain) (2.16.2)\n",
            "Requirement already satisfied: typing-extensions>=4.6.1 in /usr/local/lib/python3.10/dist-packages (from pydantic<3,>=1->langchain) (4.9.0)\n",
            "Requirement already satisfied: charset-normalizer<4,>=2 in /usr/local/lib/python3.10/dist-packages (from requests<3,>=2->langchain) (3.3.2)\n",
            "Requirement already satisfied: idna<4,>=2.5 in /usr/local/lib/python3.10/dist-packages (from requests<3,>=2->langchain) (3.6)\n",
            "Requirement already satisfied: urllib3<3,>=1.21.1 in /usr/local/lib/python3.10/dist-packages (from requests<3,>=2->langchain) (2.0.7)\n",
            "Requirement already satisfied: certifi>=2017.4.17 in /usr/local/lib/python3.10/dist-packages (from requests<3,>=2->langchain) (2024.2.2)\n",
            "Requirement already satisfied: greenlet!=0.4.17 in /usr/local/lib/python3.10/dist-packages (from SQLAlchemy<3,>=1.4->langchain) (3.0.3)\n",
            "Requirement already satisfied: sniffio>=1.1 in /usr/local/lib/python3.10/dist-packages (from anyio<5,>=3->langchain-core<0.2,>=0.1.26->langchain) (1.3.0)\n",
            "Requirement already satisfied: exceptiongroup in /usr/local/lib/python3.10/dist-packages (from anyio<5,>=3->langchain-core<0.2,>=0.1.26->langchain) (1.2.0)\n",
            "Collecting mypy-extensions>=0.3.0 (from typing-inspect<1,>=0.4.0->dataclasses-json<0.7,>=0.5.7->langchain)\n",
            "  Downloading mypy_extensions-1.0.0-py3-none-any.whl (4.7 kB)\n",
            "Installing collected packages: orjson, mypy-extensions, marshmallow, jsonpointer, typing-inspect, jsonpatch, langsmith, dataclasses-json, langchain-core, langchain-community, langchain\n",
            "Successfully installed dataclasses-json-0.6.4 jsonpatch-1.33 jsonpointer-2.4 langchain-0.1.9 langchain-community-0.0.24 langchain-core-0.1.27 langsmith-0.1.9 marshmallow-3.21.0 mypy-extensions-1.0.0 orjson-3.9.15 typing-inspect-0.9.0\n",
            "Collecting openai\n",
            "  Downloading openai-1.12.0-py3-none-any.whl (226 kB)\n",
            "\u001b[2K     \u001b[90m━━━━━━━━━━━━━━━━━━━━━━━━━━━━━━━━━━━━━━━━\u001b[0m \u001b[32m226.7/226.7 kB\u001b[0m \u001b[31m2.4 MB/s\u001b[0m eta \u001b[36m0:00:00\u001b[0m\n",
            "\u001b[?25hRequirement already satisfied: anyio<5,>=3.5.0 in /usr/local/lib/python3.10/dist-packages (from openai) (3.7.1)\n",
            "Requirement already satisfied: distro<2,>=1.7.0 in /usr/lib/python3/dist-packages (from openai) (1.7.0)\n",
            "Collecting httpx<1,>=0.23.0 (from openai)\n",
            "  Downloading httpx-0.27.0-py3-none-any.whl (75 kB)\n",
            "\u001b[2K     \u001b[90m━━━━━━━━━━━━━━━━━━━━━━━━━━━━━━━━━━━━━━━━\u001b[0m \u001b[32m75.6/75.6 kB\u001b[0m \u001b[31m9.1 MB/s\u001b[0m eta \u001b[36m0:00:00\u001b[0m\n",
            "\u001b[?25hRequirement already satisfied: pydantic<3,>=1.9.0 in /usr/local/lib/python3.10/dist-packages (from openai) (2.6.1)\n",
            "Requirement already satisfied: sniffio in /usr/local/lib/python3.10/dist-packages (from openai) (1.3.0)\n",
            "Requirement already satisfied: tqdm>4 in /usr/local/lib/python3.10/dist-packages (from openai) (4.66.2)\n",
            "Requirement already satisfied: typing-extensions<5,>=4.7 in /usr/local/lib/python3.10/dist-packages (from openai) (4.9.0)\n",
            "Requirement already satisfied: idna>=2.8 in /usr/local/lib/python3.10/dist-packages (from anyio<5,>=3.5.0->openai) (3.6)\n",
            "Requirement already satisfied: exceptiongroup in /usr/local/lib/python3.10/dist-packages (from anyio<5,>=3.5.0->openai) (1.2.0)\n",
            "Requirement already satisfied: certifi in /usr/local/lib/python3.10/dist-packages (from httpx<1,>=0.23.0->openai) (2024.2.2)\n",
            "Collecting httpcore==1.* (from httpx<1,>=0.23.0->openai)\n",
            "  Downloading httpcore-1.0.4-py3-none-any.whl (77 kB)\n",
            "\u001b[2K     \u001b[90m━━━━━━━━━━━━━━━━━━━━━━━━━━━━━━━━━━━━━━━━\u001b[0m \u001b[32m77.8/77.8 kB\u001b[0m \u001b[31m9.5 MB/s\u001b[0m eta \u001b[36m0:00:00\u001b[0m\n",
            "\u001b[?25hCollecting h11<0.15,>=0.13 (from httpcore==1.*->httpx<1,>=0.23.0->openai)\n",
            "  Downloading h11-0.14.0-py3-none-any.whl (58 kB)\n",
            "\u001b[2K     \u001b[90m━━━━━━━━━━━━━━━━━━━━━━━━━━━━━━━━━━━━━━━━\u001b[0m \u001b[32m58.3/58.3 kB\u001b[0m \u001b[31m6.3 MB/s\u001b[0m eta \u001b[36m0:00:00\u001b[0m\n",
            "\u001b[?25hRequirement already satisfied: annotated-types>=0.4.0 in /usr/local/lib/python3.10/dist-packages (from pydantic<3,>=1.9.0->openai) (0.6.0)\n",
            "Requirement already satisfied: pydantic-core==2.16.2 in /usr/local/lib/python3.10/dist-packages (from pydantic<3,>=1.9.0->openai) (2.16.2)\n",
            "Installing collected packages: h11, httpcore, httpx, openai\n",
            "Successfully installed h11-0.14.0 httpcore-1.0.4 httpx-0.27.0 openai-1.12.0\n"
          ]
        }
      ],
      "source": [
        "!pip install langchain\n",
        "!pip install openai"
      ]
    },
    {
      "cell_type": "code",
      "source": [
        "import os\n",
        "from google.colab import userdata\n",
        "\n",
        "os.environ['OPENAI_API_KEY']=userdata.get('OPENAI_API_KEY')"
      ],
      "metadata": {
        "id": "bCMZA_8dquiz"
      },
      "execution_count": null,
      "outputs": []
    },
    {
      "cell_type": "code",
      "source": [
        "prod_review = \"\"\"\n",
        "Got this panda plush toy for my daughter's birthday, \\\n",
        "who loves it and takes it everywhere. It's soft and \\\n",
        "super cute, and its face has a friendly look. It's \\\n",
        "a bit small for what I paid though. I think there \\\n",
        "might be other options that are bigger for the \\\n",
        "same price. It arrived a day earlier than expected, \\\n",
        "so I got to play with it myself before I gave it \\\n",
        "to her.\n",
        "\"\"\"\n",
        "\n",
        "prompt_review = f\"\"\"\n",
        "Your task is to generate a short summary of a product \\\n",
        "review from an ecommerce site.\n",
        "\n",
        "Summarize the review below, delimited by triple\n",
        "backticks, in at most 30 words.\n",
        "\n",
        "Review: ```{prod_review}```\n",
        "\"\"\"\n"
      ],
      "metadata": {
        "id": "48Aof7SvsZr3"
      },
      "execution_count": null,
      "outputs": []
    },
    {
      "cell_type": "code",
      "source": [
        "from langchain.llms import OpenAI\n",
        "\n",
        "llm = OpenAI(temperature=0.8)\n",
        "\n",
        "prompt = \"What is a good top 3 summer holiday destination?\"\n",
        "\n",
        "responses = llm.generate([prompt]*5)\n",
        "\n",
        "for r in responses.generations:\n",
        "  print(r[0].text)\n",
        "  print(\"*********\")\n"
      ],
      "metadata": {
        "id": "Fj4v350Rq9Jg",
        "outputId": "5d491e32-365b-45f2-fa1d-0e2e3991fc4c",
        "colab": {
          "base_uri": "https://localhost:8080/"
        }
      },
      "execution_count": null,
      "outputs": [
        {
          "output_type": "stream",
          "name": "stdout",
          "text": [
            "\n",
            "\n",
            "1. Bali, Indonesia: With its beautiful beaches, rich culture, and warm weather year-round, Bali is the perfect summer destination for relaxation and adventure. Visitors can enjoy surfing, snorkeling, and hiking, as well as immerse themselves in the local culture through traditional dances, temples, and markets.\n",
            "\n",
            "2. Santorini, Greece: The stunning island of Santorini is known for its iconic white-and-blue architecture, breathtaking views of the Aegean Sea, and delicious Greek cuisine. Summer is the perfect time to visit, as the warm weather allows for swimming in the crystal-clear waters and exploring the island's many historic sites.\n",
            "\n",
            "3. Cancun, Mexico: With its luxurious all-inclusive resorts, stunning beaches, and vibrant nightlife, Cancun is a popular summer holiday destination. Visitors can relax on the beach, go snorkeling or scuba diving in the Caribbean Sea, or take day trips to nearby Mayan ruins.\n",
            "*********\n",
            "\n",
            "\n",
            "1. Santorini, Greece: With its stunning beaches, iconic blue-domed buildings, and picturesque landscapes, Santorini is the perfect destination for a summer getaway. Visitors can also enjoy delicious Greek food and wine, as well as explore the island's rich history and culture.\n",
            "\n",
            "2. Bali, Indonesia: Bali offers a perfect mix of beautiful beaches, lush jungles, and vibrant culture. Visitors can relax on the white-sand beaches, go surfing or hiking, and indulge in traditional Balinese cuisine. The island also has a thriving nightlife and numerous cultural attractions to explore.\n",
            "\n",
            "3. Costa Rica: Known for its stunning beaches, lush rainforests, and diverse wildlife, Costa Rica is a top summer destination for nature lovers. Visitors can go zip-lining through the forest, hike to breathtaking waterfalls, and spot exotic animals like monkeys and sloths. The country also offers a range of outdoor activities, such as surfing, snorkeling, and white-water rafting. \n",
            "*********\n",
            "\n",
            "\n",
            "1. Bali, Indonesia: With its beautiful beaches, lush landscape, and rich culture, Bali offers the perfect mix of relaxation and adventure.\n",
            "\n",
            "2. Santorini, Greece: Known for its stunning white-washed buildings and breathtaking views of the Aegean Sea, Santorini is a popular choice for a summer getaway.\n",
            "\n",
            "3. Costa Rica: This Central American country offers something for everyone, from pristine beaches to lush rainforests and adrenaline-pumping activities like zip-lining and surfing.\n",
            "*********\n",
            "\n",
            "\n",
            "1. Bali, Indonesia\n",
            "2. Santorini, Greece\n",
            "3. Cancun, Mexico\n",
            "*********\n",
            "\n",
            "\n",
            "1) Bali, Indonesia: With its beautiful beaches, stunning temples, and rich cultural heritage, Bali is a popular destination for summer vacations. Visitors can also enjoy activities like surfing, hiking, and exploring the island's lush greenery.\n",
            "\n",
            "2) Santorini, Greece: Known for its iconic blue-domed buildings, whitewashed houses, and stunning sunsets, Santorini is a dream summer destination. Visitors can also indulge in delicious Greek cuisine and relax on the island's black sand beaches.\n",
            "\n",
            "3) Costa Rica: This Central American country offers a diverse range of activities for summer travelers, from hiking through rainforests to surfing on its many beaches. Visitors can also spot exotic wildlife, visit volcanoes, and enjoy the country's vibrant culture and cuisine.\n",
            "*********\n"
          ]
        }
      ]
    },
    {
      "cell_type": "code",
      "source": [
        "!pip install HuggingFace_hub"
      ],
      "metadata": {
        "id": "6crkCcE67TSx",
        "outputId": "5d4ce241-a581-4928-9c82-b60c78b08fe4",
        "colab": {
          "base_uri": "https://localhost:8080/"
        }
      },
      "execution_count": null,
      "outputs": [
        {
          "output_type": "stream",
          "name": "stdout",
          "text": [
            "Requirement already satisfied: HuggingFace_hub in /usr/local/lib/python3.10/dist-packages (0.20.3)\n",
            "Requirement already satisfied: filelock in /usr/local/lib/python3.10/dist-packages (from HuggingFace_hub) (3.13.1)\n",
            "Requirement already satisfied: fsspec>=2023.5.0 in /usr/local/lib/python3.10/dist-packages (from HuggingFace_hub) (2023.6.0)\n",
            "Requirement already satisfied: requests in /usr/local/lib/python3.10/dist-packages (from HuggingFace_hub) (2.31.0)\n",
            "Requirement already satisfied: tqdm>=4.42.1 in /usr/local/lib/python3.10/dist-packages (from HuggingFace_hub) (4.66.2)\n",
            "Requirement already satisfied: pyyaml>=5.1 in /usr/local/lib/python3.10/dist-packages (from HuggingFace_hub) (6.0.1)\n",
            "Requirement already satisfied: typing-extensions>=3.7.4.3 in /usr/local/lib/python3.10/dist-packages (from HuggingFace_hub) (4.9.0)\n",
            "Requirement already satisfied: packaging>=20.9 in /usr/local/lib/python3.10/dist-packages (from HuggingFace_hub) (23.2)\n",
            "Requirement already satisfied: charset-normalizer<4,>=2 in /usr/local/lib/python3.10/dist-packages (from requests->HuggingFace_hub) (3.3.2)\n",
            "Requirement already satisfied: idna<4,>=2.5 in /usr/local/lib/python3.10/dist-packages (from requests->HuggingFace_hub) (3.6)\n",
            "Requirement already satisfied: urllib3<3,>=1.21.1 in /usr/local/lib/python3.10/dist-packages (from requests->HuggingFace_hub) (2.0.7)\n",
            "Requirement already satisfied: certifi>=2017.4.17 in /usr/local/lib/python3.10/dist-packages (from requests->HuggingFace_hub) (2024.2.2)\n"
          ]
        }
      ]
    },
    {
      "cell_type": "code",
      "source": [
        "from langchain import HuggingFaceHub"
      ],
      "metadata": {
        "id": "l13uGzCy7YTj"
      },
      "execution_count": null,
      "outputs": []
    },
    {
      "cell_type": "code",
      "source": [
        "import os\n",
        "from google.colab import userdata\n",
        "\n",
        "os.environ['HUGGINGFACEHUB_API_TOKEN']=userdata.get('HUGGINGFACEHUB_API_TOKEN')"
      ],
      "metadata": {
        "id": "zc1QwwxL8WpB"
      },
      "execution_count": null,
      "outputs": []
    },
    {
      "cell_type": "code",
      "source": [
        "llm_h = HuggingFaceHub(repo_id=\"google/flan-t5-base\", model_kwargs={\"temperature\":0, \"max_length\":64})\n",
        "\n",
        "prompt=\"What are top 5 DevOps tools in the market?\"\n",
        "\n",
        "print(llm_h(prompt))"
      ],
      "metadata": {
        "id": "dL1kFGuU7iMe",
        "outputId": "2a09bf35-1a42-4c2a-f74c-083b06343680",
        "colab": {
          "base_uri": "https://localhost:8080/"
        }
      },
      "execution_count": null,
      "outputs": [
        {
          "output_type": "stream",
          "name": "stdout",
          "text": [
            "DevOps - DevOps - DevOps - DevOps - DevOps - DevOps - DevOps - DevOps - DevOps -\n"
          ]
        }
      ]
    },
    {
      "cell_type": "code",
      "source": [
        "import os\n",
        "from langchain import PromptTemplate\n",
        "from langchain.llms import OpenAI\n",
        "from langchain.chains import LLMChain\n",
        "\n",
        "template = \"You are a Naming Consultant for courses taken by various roles. What is a good name for a {course} that would be attended by {role}?\"\n",
        "\n",
        "prompt = PromptTemplate.from_template(template)\n",
        "\n",
        "llm=OpenAI(temperature=0.9)\n",
        "\n",
        "#create a chain\n",
        "chain=LLMChain(llm=llm,prompt=prompt)\n",
        "\n",
        "print('Welcome to Course Bubble !, We can help you giving good catchy marketing names for your e-learning courses')\n",
        "\n",
        "coursename=input('Whats the course that you are launching: ')\n",
        "rolename=input('Who is going to attend this course:')\n",
        "\n",
        "\n",
        "print(chain.run({\"course\":coursename,\"role\":rolename}))"
      ],
      "metadata": {
        "id": "-SxbW81TAXW0",
        "colab": {
          "base_uri": "https://localhost:8080/"
        },
        "outputId": "2978e0e1-d3aa-46fd-e95f-f0f3cfc00f78"
      },
      "execution_count": null,
      "outputs": [
        {
          "output_type": "stream",
          "name": "stdout",
          "text": [
            "Welcome to Course Bubble !, We can help you giving good catchy marketing names for your e-learning courses\n",
            "Whats the course that you are launching: docker\n",
            "Who is going to attend this course:engineering managers\n",
            "\n",
            "\n",
            "\"Docker for Leadership: Empowering Engineering Managers\"\n"
          ]
        }
      ]
    },
    {
      "cell_type": "code",
      "source": [
        "from langchain import OpenAI, LLMChain, PromptTemplate\n",
        "from langchain.chains import SimpleSequentialChain\n",
        "\n",
        "llm=OpenAI(temperature=0.5)\n",
        "first_template=\"What is a good company name for a company selling {product}\"\n",
        "first_prompt = PromptTemplate.from_template(first_template)\n",
        "first_chain=LLMChain(llm=llm,prompt=first_prompt)\n",
        "\n",
        "second_template=\"What is a good tag line for the company {companyname}\"\n",
        "second_prompt = PromptTemplate.from_template(second_template)\n",
        "second_chain=LLMChain(llm=llm,prompt=second_prompt)\n",
        "\n",
        "overall_chain=SimpleSequentialChain(chains=[first_chain,second_chain], verbose=True)\n",
        "\n",
        "product=input('What are you selling: ')\n",
        "\n",
        "tagline = overall_chain.run(product)\n",
        "print(tagline)"
      ],
      "metadata": {
        "colab": {
          "base_uri": "https://localhost:8080/"
        },
        "id": "OWoQpsioDJo0",
        "outputId": "c7ffe98f-0300-4364-eba7-484387aa64e2"
      },
      "execution_count": null,
      "outputs": [
        {
          "output_type": "stream",
          "name": "stdout",
          "text": [
            "What are you selling: pizza\n",
            "\n",
            "\n",
            "\u001b[1m> Entering new SimpleSequentialChain chain...\u001b[0m\n",
            "\u001b[36;1m\u001b[1;3m\n",
            "\n",
            "\"Slice & Savor Pizzeria\" \u001b[0m\n",
            "\u001b[33;1m\u001b[1;3m\n",
            "\n",
            "\"Satisfy Your Cravings with Every Bite\"\u001b[0m\n",
            "\n",
            "\u001b[1m> Finished chain.\u001b[0m\n",
            "\n",
            "\n",
            "\"Satisfy Your Cravings with Every Bite\"\n"
          ]
        }
      ]
    },
    {
      "cell_type": "code",
      "source": [
        "import pprint\n",
        "from langchain.agents import get_all_tool_names\n",
        "\n",
        "pp = pprint.PrettyPrinter(indent=4)\n",
        "pp.pprint(get_all_tool_names())"
      ],
      "metadata": {
        "colab": {
          "base_uri": "https://localhost:8080/"
        },
        "id": "2SBAmz6oHmnT",
        "outputId": "49d7ea83-38b7-4921-8b02-63e971329464"
      },
      "execution_count": null,
      "outputs": [
        {
          "output_type": "stream",
          "name": "stdout",
          "text": [
            "[   'requests',\n",
            "    'requests_get',\n",
            "    'requests_post',\n",
            "    'requests_patch',\n",
            "    'requests_put',\n",
            "    'requests_delete',\n",
            "    'terminal',\n",
            "    'sleep',\n",
            "    'wolfram-alpha',\n",
            "    'google-search',\n",
            "    'google-search-results-json',\n",
            "    'searx-search-results-json',\n",
            "    'bing-search',\n",
            "    'metaphor-search',\n",
            "    'ddg-search',\n",
            "    'google-lens',\n",
            "    'google-serper',\n",
            "    'google-scholar',\n",
            "    'google-finance',\n",
            "    'google-trends',\n",
            "    'google-jobs',\n",
            "    'google-serper-results-json',\n",
            "    'searchapi',\n",
            "    'searchapi-results-json',\n",
            "    'serpapi',\n",
            "    'dalle-image-generator',\n",
            "    'twilio',\n",
            "    'searx-search',\n",
            "    'merriam-webster',\n",
            "    'wikipedia',\n",
            "    'arxiv',\n",
            "    'golden-query',\n",
            "    'pubmed',\n",
            "    'human',\n",
            "    'awslambda',\n",
            "    'stackexchange',\n",
            "    'sceneXplain',\n",
            "    'graphql',\n",
            "    'openweathermap-api',\n",
            "    'dataforseo-api-search',\n",
            "    'dataforseo-api-search-json',\n",
            "    'eleven_labs_text2speech',\n",
            "    'google_cloud_texttospeech',\n",
            "    'reddit_search',\n",
            "    'news-api',\n",
            "    'tmdb-api',\n",
            "    'podcast-api',\n",
            "    'memorize',\n",
            "    'llm-math',\n",
            "    'open-meteo-api']\n"
          ]
        }
      ]
    },
    {
      "cell_type": "code",
      "source": [
        "!pip install wikipedia"
      ],
      "metadata": {
        "colab": {
          "base_uri": "https://localhost:8080/"
        },
        "id": "HBhQICmYKAig",
        "outputId": "3ff776b4-e53a-4768-bd6a-ae0c624b424b"
      },
      "execution_count": null,
      "outputs": [
        {
          "output_type": "stream",
          "name": "stdout",
          "text": [
            "Collecting wikipedia\n",
            "  Downloading wikipedia-1.4.0.tar.gz (27 kB)\n",
            "  Preparing metadata (setup.py) ... \u001b[?25l\u001b[?25hdone\n",
            "Requirement already satisfied: beautifulsoup4 in /usr/local/lib/python3.10/dist-packages (from wikipedia) (4.12.3)\n",
            "Requirement already satisfied: requests<3.0.0,>=2.0.0 in /usr/local/lib/python3.10/dist-packages (from wikipedia) (2.31.0)\n",
            "Requirement already satisfied: charset-normalizer<4,>=2 in /usr/local/lib/python3.10/dist-packages (from requests<3.0.0,>=2.0.0->wikipedia) (3.3.2)\n",
            "Requirement already satisfied: idna<4,>=2.5 in /usr/local/lib/python3.10/dist-packages (from requests<3.0.0,>=2.0.0->wikipedia) (3.6)\n",
            "Requirement already satisfied: urllib3<3,>=1.21.1 in /usr/local/lib/python3.10/dist-packages (from requests<3.0.0,>=2.0.0->wikipedia) (2.0.7)\n",
            "Requirement already satisfied: certifi>=2017.4.17 in /usr/local/lib/python3.10/dist-packages (from requests<3.0.0,>=2.0.0->wikipedia) (2024.2.2)\n",
            "Requirement already satisfied: soupsieve>1.2 in /usr/local/lib/python3.10/dist-packages (from beautifulsoup4->wikipedia) (2.5)\n",
            "Building wheels for collected packages: wikipedia\n",
            "  Building wheel for wikipedia (setup.py) ... \u001b[?25l\u001b[?25hdone\n",
            "  Created wheel for wikipedia: filename=wikipedia-1.4.0-py3-none-any.whl size=11678 sha256=7b2dbf952a30e3b919767c1b8efc492fc4bbbf955f5c7f6e7c111adb970d7486\n",
            "  Stored in directory: /root/.cache/pip/wheels/5e/b6/c5/93f3dec388ae76edc830cb42901bb0232504dfc0df02fc50de\n",
            "Successfully built wikipedia\n",
            "Installing collected packages: wikipedia\n",
            "Successfully installed wikipedia-1.4.0\n"
          ]
        }
      ]
    },
    {
      "cell_type": "code",
      "source": [
        "from langchain.llms import OpenAI\n",
        "from langchain.agents import load_tools, initialize_agent\n",
        "\n",
        "prompt=\"When was the firs female prime minister of the United Kingdom born? What is that year raised to 2?\"\n",
        "\n",
        "llm=OpenAI(temperature=0)\n",
        "tools=load_tools([\"wikipedia\",\"llm-math\"], llm=llm)\n",
        "\n",
        "agent=initialize_agent(tools, llm, agent=\"zero-shot-react-description\", verbose=True)\n",
        "\n",
        "agent.run(prompt)\n"
      ],
      "metadata": {
        "colab": {
          "base_uri": "https://localhost:8080/",
          "height": 804
        },
        "id": "unP9rr3iIgl4",
        "outputId": "f8e51ffc-6410-4f07-a6aa-7800c937a7d8"
      },
      "execution_count": null,
      "outputs": [
        {
          "output_type": "stream",
          "name": "stdout",
          "text": [
            "\n",
            "\n",
            "\u001b[1m> Entering new AgentExecutor chain...\u001b[0m\n",
            "\u001b[32;1m\u001b[1;3m I should use Wikipedia to find the birth year of the first female prime minister of the United Kingdom and then use a calculator to raise that year to the power of 2.\n",
            "Action: wikipedia\n",
            "Action Input: \"first female prime minister United Kingdom\"\u001b[0m\n",
            "Observation: \u001b[36;1m\u001b[1;3mPage: List of prime ministers of the United Kingdom by length of tenure\n",
            "Summary: This is a list of prime ministers of the United Kingdom by length of tenure. This is based on the difference between dates; if counted by the number of calendar days, the figures would be one day greater for each term served.\n",
            "The term \"Prime Minister\" appeared in the early eighteenth century as an unofficial title for the leader of the government, usually the head of the Treasury. Jonathan Swift, for example, wrote that in 1713 there had been \"those who are now commonly called Prime Minister among us\", referring to Sidney Godolphin and Robert Harley, Queen Anne's Lord Treasurers and chief ministers. Robert Walpole is regarded as the first prime minister; he became First Lord of the Treasury of Great Britain in 1721. This list includes all prime ministers of the Kingdom of Great Britain, the United Kingdom of Great Britain and Ireland, and the modern-day United Kingdom of Great Britain and Northern Ireland.\n",
            "\n",
            "Page: List of prime ministers of the United Kingdom\n",
            "Summary: The prime minister of the United Kingdom is the principal minister of the crown of His Majesty's Government, and the head of the British Cabinet. There is no specific date for when the office of prime minister first appeared, as the role was not created but rather evolved over a period of time through a merger of duties. The term was regularly, if informally, used of Robert Walpole by the 1730s. It was used in the House of Commons as early as 1805, and it was certainly in parliamentary use by the 1880s.Modern historians generally consider Robert Walpole, who led the government of the Kingdom of Great Britain for over twenty years from 1721, as the first prime minister. Walpole is also the longest-serving British prime minister by this definition. By the same consideration the first prime minister of the United Kingdom of Great Britain and Ireland was William Pitt the Younger at its creation on 1 January 1801. The first to use the title in an official act was Benjamin Disraeli, who, in 1878, signed the Treaty of Berlin as \"Prime Minister of Her Britannic Majesty\".In 1905, the post of prime minister was officially given recognition in the order of precedence, with the incumbent Henry Campbell-Bannerman the first officially referred to as \"prime minister\".\n",
            "The first prime minister of the current United Kingdom of Great Britain and Northern Ireland upon its effective creation in 1922 (when 26 Irish counties seceded and created the Irish Free State) was Bonar Law, although the country was not renamed officially until 1927, when Stanley Baldwin was the serving prime minister. The incumbent prime minister is Rishi Sunak, who assumed office on 25 October 2022.\n",
            "\n",
            "\n",
            "\n",
            "Page: Records of prime ministers of the United Kingdom\n",
            "Summary: The article lists the records of prime ministers of the United Kingdom since 1721.\u001b[0m\n",
            "Thought:\u001b[32;1m\u001b[1;3m Now that I have the list of prime ministers, I can find the first female prime minister and her birth year.\n",
            "Action: wikipedia\n",
            "Action Input: \"Margaret Thatcher\"\u001b[0m\n",
            "Observation: \u001b[36;1m\u001b[1;3mPage: Margaret Thatcher\n",
            "Summary: Margaret Hilda Thatcher, Baroness Thatcher  (née Roberts; 13 October 1925 – 8 April 2013), was a British stateswoman and Conservative politician who served as Prime Minister of the United Kingdom from 1979 to 1990 and Leader of the Conservative Party from 1975 to 1990. She was the longest-serving British prime minister of the 20th century and the first woman to hold the position. As prime minister, she implemented economic policies that became known as Thatcherism. A Soviet journalist dubbed her the \"Iron Lady\", a nickname that became associated with her uncompromising politics and leadership style.\n",
            "Thatcher studied chemistry at Somerville College, Oxford, and worked briefly as a research chemist before becoming a barrister. She was elected Member of Parliament for Finchley in 1959. Edward Heath appointed her secretary of state for education and science in his 1970–1974 government. In 1975, she defeated Heath in the Conservative Party leadership election to become leader of the opposition, the first woman to lead a major political party in the UK.\n",
            "On becoming prime minister after winning the 1979 general election, Thatcher introduced a series of economic policies intended to reverse high inflation and Britain's struggles in the wake of the Winter of Discontent and an oncoming recession. Her political philosophy and economic policies emphasised greater individual liberty, the privatisation of state-owned companies, and reducing the power and influence of trade unions. Her popularity in her first years in office waned amid recession and rising unemployment. Victory in the 1982 Falklands War and the recovering economy brought a resurgence of support, resulting in her landslide re-election in 1983. She survived an assassination attempt by the Provisional IRA in the 1984 Brighton hotel bombing and achieved a political victory against the National Union of Mineworkers in the 1984–85 miners' strike. In 1986, Thatcher oversaw the deregulation of UK financial markets, leading to an economic boom, in what came to be known as the Big Bang.\n",
            "Thatcher was re-elected for a third term with another landslide in 1987, but her subsequent support for the Community Charge (also known as the \"poll tax\") was widely unpopular, and her increasingly Eurosceptic views on the European Community were not shared by others in her cabinet. She resigned as prime minister and party leader in 1990, after a challenge was launched to her leadership, and was succeeded by John Major, the chancellor of the Exchequer. After retiring from the Commons in 1992, she was given a life peerage as Baroness Thatcher (of Kesteven in the County of Lincolnshire) which entitled her to sit in the House of Lords. In 2013, she died of a stroke at the Ritz Hotel, London, at the age of 87.\n",
            "A polarising figure in British politics, Thatcher is nonetheless viewed by historians as one of the greatest prime ministers in British history. Her tenure constituted a realignment towards neoliberal policies in Britain, and the complex legacy attributed to this shift continues to be debated into the 21st century.\n",
            "\n",
            "Page: Death and funeral of Margaret Thatcher\n",
            "Summary: On 8 April 2013, former British prime minister Margaret Thatcher, Baroness Thatcher, died of a stroke at the Ritz Hotel, London, at the age of 87. On 17 April, she was honoured with a ceremonial funeral. Due to polarised opinions about her achievements and legacy, the reaction to her death was mixed across the UK, including contrasting praise, criticism, and celebrations of her life as well as celebrations of her death.\n",
            "The funeral included a formal procession through Central London followed by a church service at St Paul's Cathedral attended by Queen Elizabeth II. It cost around £3.6 million, including £3.1 million for security. Thatcher's body was subsequently cremated at Mortlake Crematorium.\n",
            "Her ashes were buried at the Royal Hospital Chelsea, London, in a private ceremony on 28 September 2013, alo\u001b[0m\n",
            "Thought:\u001b[32;1m\u001b[1;3m Now that I have the birth year of Margaret Thatcher, I can use a calculator to raise it to the power of 2.\n",
            "Action: Calculator\n",
            "Action Input: 1925^2\u001b[0m\n",
            "Observation: \u001b[33;1m\u001b[1;3mAnswer: 3705625\u001b[0m\n",
            "Thought:\u001b[32;1m\u001b[1;3m I now know the final answer.\n",
            "Final Answer: 3705625\u001b[0m\n",
            "\n",
            "\u001b[1m> Finished chain.\u001b[0m\n"
          ]
        },
        {
          "output_type": "execute_result",
          "data": {
            "text/plain": [
              "'3705625'"
            ],
            "application/vnd.google.colaboratory.intrinsic+json": {
              "type": "string"
            }
          },
          "metadata": {},
          "execution_count": 28
        }
      ]
    },
    {
      "cell_type": "code",
      "source": [
        "import os\n",
        "\n",
        "from langchain.chat_models import ChatOpenAI\n",
        "from langchain.llms import OpenAI\n",
        "from langchain.agents import load_tools, initialize_agent\n",
        "from langchain.agents import AgentType\n",
        "\n",
        "llm = ChatOpenAI(temperature=0.0)\n",
        "math_llm = OpenAI(temperature=0.0)\n",
        "tools = load_tools(\n",
        "    [\"human\", \"llm-math\"],\n",
        "    llm=math_llm,\n",
        ")\n",
        "\n",
        "agent_chain = initialize_agent(\n",
        "    tools,\n",
        "    llm,\n",
        "    agent=AgentType.ZERO_SHOT_REACT_DESCRIPTION,\n",
        "    verbose=True,\n",
        ")\n",
        "\n",
        "agent_chain.run(\"What's users phone number? Whats the mobile number divided by 100\")"
      ],
      "metadata": {
        "id": "VJ-n-1qONhxl",
        "outputId": "52bf7824-4bdf-499f-9115-126f5ab55f3f",
        "colab": {
          "base_uri": "https://localhost:8080/",
          "height": 391
        }
      },
      "execution_count": null,
      "outputs": [
        {
          "output_type": "stream",
          "name": "stdout",
          "text": [
            "\n",
            "\n",
            "\u001b[1m> Entering new AgentExecutor chain...\u001b[0m\n",
            "\u001b[32;1m\u001b[1;3mI cannot provide personal information such as a user's phone number.\n",
            "Action: human\n",
            "Action Input: Can you provide guidance on how to handle this question?\u001b[0m\n",
            "\n",
            "Can you provide guidance on how to handle this question?\n",
            "99600\n",
            "\n",
            "Observation: \u001b[36;1m\u001b[1;3m99600\u001b[0m\n",
            "Thought:\u001b[32;1m\u001b[1;3mI need to divide 99600 by 100 to get the final answer.\n",
            "Action: Calculator\n",
            "Action Input: 99600 / 100\u001b[0m\n",
            "Observation: \u001b[33;1m\u001b[1;3mAnswer: 996.0\u001b[0m\n",
            "Thought:\u001b[32;1m\u001b[1;3mI now know the final answer\n",
            "Final Answer: 996.0\u001b[0m\n",
            "\n",
            "\u001b[1m> Finished chain.\u001b[0m\n"
          ]
        },
        {
          "output_type": "execute_result",
          "data": {
            "text/plain": [
              "'996.0'"
            ],
            "application/vnd.google.colaboratory.intrinsic+json": {
              "type": "string"
            }
          },
          "metadata": {},
          "execution_count": 32
        }
      ]
    },
    {
      "cell_type": "code",
      "source": [
        "import os\n",
        "from google.colab import userdata\n",
        "\n",
        "os.environ['SERPAPI_API_KEY']=userdata.get('SERP_API_KEY')"
      ],
      "metadata": {
        "id": "FReZhUHBQSS2"
      },
      "execution_count": null,
      "outputs": []
    },
    {
      "cell_type": "code",
      "source": [
        "!pip install langchain_experimental\n",
        "!pip install google-search-results"
      ],
      "metadata": {
        "id": "iLi9koTJQmsB",
        "outputId": "9f3c73ad-cfb7-4ac6-f4b1-8d40ea0ccefe",
        "colab": {
          "base_uri": "https://localhost:8080/"
        }
      },
      "execution_count": null,
      "outputs": [
        {
          "output_type": "stream",
          "name": "stdout",
          "text": [
            "Requirement already satisfied: langchain_experimental in /usr/local/lib/python3.10/dist-packages (0.0.52)\n",
            "Requirement already satisfied: langchain<0.2.0,>=0.1.8 in /usr/local/lib/python3.10/dist-packages (from langchain_experimental) (0.1.9)\n",
            "Requirement already satisfied: langchain-core<0.2.0,>=0.1.24 in /usr/local/lib/python3.10/dist-packages (from langchain_experimental) (0.1.27)\n",
            "Requirement already satisfied: PyYAML>=5.3 in /usr/local/lib/python3.10/dist-packages (from langchain<0.2.0,>=0.1.8->langchain_experimental) (6.0.1)\n",
            "Requirement already satisfied: SQLAlchemy<3,>=1.4 in /usr/local/lib/python3.10/dist-packages (from langchain<0.2.0,>=0.1.8->langchain_experimental) (2.0.27)\n",
            "Requirement already satisfied: aiohttp<4.0.0,>=3.8.3 in /usr/local/lib/python3.10/dist-packages (from langchain<0.2.0,>=0.1.8->langchain_experimental) (3.9.3)\n",
            "Requirement already satisfied: async-timeout<5.0.0,>=4.0.0 in /usr/local/lib/python3.10/dist-packages (from langchain<0.2.0,>=0.1.8->langchain_experimental) (4.0.3)\n",
            "Requirement already satisfied: dataclasses-json<0.7,>=0.5.7 in /usr/local/lib/python3.10/dist-packages (from langchain<0.2.0,>=0.1.8->langchain_experimental) (0.6.4)\n",
            "Requirement already satisfied: jsonpatch<2.0,>=1.33 in /usr/local/lib/python3.10/dist-packages (from langchain<0.2.0,>=0.1.8->langchain_experimental) (1.33)\n",
            "Requirement already satisfied: langchain-community<0.1,>=0.0.21 in /usr/local/lib/python3.10/dist-packages (from langchain<0.2.0,>=0.1.8->langchain_experimental) (0.0.24)\n",
            "Requirement already satisfied: langsmith<0.2.0,>=0.1.0 in /usr/local/lib/python3.10/dist-packages (from langchain<0.2.0,>=0.1.8->langchain_experimental) (0.1.9)\n",
            "Requirement already satisfied: numpy<2,>=1 in /usr/local/lib/python3.10/dist-packages (from langchain<0.2.0,>=0.1.8->langchain_experimental) (1.25.2)\n",
            "Requirement already satisfied: pydantic<3,>=1 in /usr/local/lib/python3.10/dist-packages (from langchain<0.2.0,>=0.1.8->langchain_experimental) (2.6.1)\n",
            "Requirement already satisfied: requests<3,>=2 in /usr/local/lib/python3.10/dist-packages (from langchain<0.2.0,>=0.1.8->langchain_experimental) (2.31.0)\n",
            "Requirement already satisfied: tenacity<9.0.0,>=8.1.0 in /usr/local/lib/python3.10/dist-packages (from langchain<0.2.0,>=0.1.8->langchain_experimental) (8.2.3)\n",
            "Requirement already satisfied: anyio<5,>=3 in /usr/local/lib/python3.10/dist-packages (from langchain-core<0.2.0,>=0.1.24->langchain_experimental) (3.7.1)\n",
            "Requirement already satisfied: packaging<24.0,>=23.2 in /usr/local/lib/python3.10/dist-packages (from langchain-core<0.2.0,>=0.1.24->langchain_experimental) (23.2)\n",
            "Requirement already satisfied: aiosignal>=1.1.2 in /usr/local/lib/python3.10/dist-packages (from aiohttp<4.0.0,>=3.8.3->langchain<0.2.0,>=0.1.8->langchain_experimental) (1.3.1)\n",
            "Requirement already satisfied: attrs>=17.3.0 in /usr/local/lib/python3.10/dist-packages (from aiohttp<4.0.0,>=3.8.3->langchain<0.2.0,>=0.1.8->langchain_experimental) (23.2.0)\n",
            "Requirement already satisfied: frozenlist>=1.1.1 in /usr/local/lib/python3.10/dist-packages (from aiohttp<4.0.0,>=3.8.3->langchain<0.2.0,>=0.1.8->langchain_experimental) (1.4.1)\n",
            "Requirement already satisfied: multidict<7.0,>=4.5 in /usr/local/lib/python3.10/dist-packages (from aiohttp<4.0.0,>=3.8.3->langchain<0.2.0,>=0.1.8->langchain_experimental) (6.0.5)\n",
            "Requirement already satisfied: yarl<2.0,>=1.0 in /usr/local/lib/python3.10/dist-packages (from aiohttp<4.0.0,>=3.8.3->langchain<0.2.0,>=0.1.8->langchain_experimental) (1.9.4)\n",
            "Requirement already satisfied: idna>=2.8 in /usr/local/lib/python3.10/dist-packages (from anyio<5,>=3->langchain-core<0.2.0,>=0.1.24->langchain_experimental) (3.6)\n",
            "Requirement already satisfied: sniffio>=1.1 in /usr/local/lib/python3.10/dist-packages (from anyio<5,>=3->langchain-core<0.2.0,>=0.1.24->langchain_experimental) (1.3.0)\n",
            "Requirement already satisfied: exceptiongroup in /usr/local/lib/python3.10/dist-packages (from anyio<5,>=3->langchain-core<0.2.0,>=0.1.24->langchain_experimental) (1.2.0)\n",
            "Requirement already satisfied: marshmallow<4.0.0,>=3.18.0 in /usr/local/lib/python3.10/dist-packages (from dataclasses-json<0.7,>=0.5.7->langchain<0.2.0,>=0.1.8->langchain_experimental) (3.21.0)\n",
            "Requirement already satisfied: typing-inspect<1,>=0.4.0 in /usr/local/lib/python3.10/dist-packages (from dataclasses-json<0.7,>=0.5.7->langchain<0.2.0,>=0.1.8->langchain_experimental) (0.9.0)\n",
            "Requirement already satisfied: jsonpointer>=1.9 in /usr/local/lib/python3.10/dist-packages (from jsonpatch<2.0,>=1.33->langchain<0.2.0,>=0.1.8->langchain_experimental) (2.4)\n",
            "Requirement already satisfied: orjson<4.0.0,>=3.9.14 in /usr/local/lib/python3.10/dist-packages (from langsmith<0.2.0,>=0.1.0->langchain<0.2.0,>=0.1.8->langchain_experimental) (3.9.15)\n",
            "Requirement already satisfied: annotated-types>=0.4.0 in /usr/local/lib/python3.10/dist-packages (from pydantic<3,>=1->langchain<0.2.0,>=0.1.8->langchain_experimental) (0.6.0)\n",
            "Requirement already satisfied: pydantic-core==2.16.2 in /usr/local/lib/python3.10/dist-packages (from pydantic<3,>=1->langchain<0.2.0,>=0.1.8->langchain_experimental) (2.16.2)\n",
            "Requirement already satisfied: typing-extensions>=4.6.1 in /usr/local/lib/python3.10/dist-packages (from pydantic<3,>=1->langchain<0.2.0,>=0.1.8->langchain_experimental) (4.9.0)\n",
            "Requirement already satisfied: charset-normalizer<4,>=2 in /usr/local/lib/python3.10/dist-packages (from requests<3,>=2->langchain<0.2.0,>=0.1.8->langchain_experimental) (3.3.2)\n",
            "Requirement already satisfied: urllib3<3,>=1.21.1 in /usr/local/lib/python3.10/dist-packages (from requests<3,>=2->langchain<0.2.0,>=0.1.8->langchain_experimental) (2.0.7)\n",
            "Requirement already satisfied: certifi>=2017.4.17 in /usr/local/lib/python3.10/dist-packages (from requests<3,>=2->langchain<0.2.0,>=0.1.8->langchain_experimental) (2024.2.2)\n",
            "Requirement already satisfied: greenlet!=0.4.17 in /usr/local/lib/python3.10/dist-packages (from SQLAlchemy<3,>=1.4->langchain<0.2.0,>=0.1.8->langchain_experimental) (3.0.3)\n",
            "Requirement already satisfied: mypy-extensions>=0.3.0 in /usr/local/lib/python3.10/dist-packages (from typing-inspect<1,>=0.4.0->dataclasses-json<0.7,>=0.5.7->langchain<0.2.0,>=0.1.8->langchain_experimental) (1.0.0)\n",
            "Collecting google-search-results\n",
            "  Downloading google_search_results-2.4.2.tar.gz (18 kB)\n",
            "  Preparing metadata (setup.py) ... \u001b[?25l\u001b[?25hdone\n",
            "Requirement already satisfied: requests in /usr/local/lib/python3.10/dist-packages (from google-search-results) (2.31.0)\n",
            "Requirement already satisfied: charset-normalizer<4,>=2 in /usr/local/lib/python3.10/dist-packages (from requests->google-search-results) (3.3.2)\n",
            "Requirement already satisfied: idna<4,>=2.5 in /usr/local/lib/python3.10/dist-packages (from requests->google-search-results) (3.6)\n",
            "Requirement already satisfied: urllib3<3,>=1.21.1 in /usr/local/lib/python3.10/dist-packages (from requests->google-search-results) (2.0.7)\n",
            "Requirement already satisfied: certifi>=2017.4.17 in /usr/local/lib/python3.10/dist-packages (from requests->google-search-results) (2024.2.2)\n",
            "Building wheels for collected packages: google-search-results\n",
            "  Building wheel for google-search-results (setup.py) ... \u001b[?25l\u001b[?25hdone\n",
            "  Created wheel for google-search-results: filename=google_search_results-2.4.2-py3-none-any.whl size=32003 sha256=f9c0189d393bfd613fcfada8f0198274907bdada423db3e60c7ac9fd4f8ee620\n",
            "  Stored in directory: /root/.cache/pip/wheels/d3/b2/c3/03302d12bb44a2cdff3c9371f31b72c0c4e84b8d2285eeac53\n",
            "Successfully built google-search-results\n",
            "Installing collected packages: google-search-results\n",
            "Successfully installed google-search-results-2.4.2\n"
          ]
        }
      ]
    },
    {
      "cell_type": "code",
      "source": [
        "import os\n",
        "from langchain.llms import OpenAI\n",
        "from langchain.chat_models import ChatOpenAI\n",
        "from langchain_experimental.plan_and_execute import (\n",
        "    PlanAndExecute,\n",
        "    load_agent_executor,\n",
        "    load_chat_planner,\n",
        ")\n",
        "from langchain import SerpAPIWrapper, LLMMathChain\n",
        "from langchain.agents.tools import Tool\n",
        "\n",
        "\n",
        "search = SerpAPIWrapper()\n",
        "llm = OpenAI(temperature=0)\n",
        "llm_math_chain = LLMMathChain.from_llm(llm=llm, verbose=True)\n",
        "\n",
        "tools = [\n",
        "    Tool(\n",
        "        name=\"Search\",\n",
        "        func=search.run,\n",
        "        description=\"useful for when you need to answer questions about current events\",\n",
        "    ),\n",
        "    Tool(\n",
        "        name=\"Wikipedia\",\n",
        "        func=search.run,\n",
        "        description=\"useful for when you need to look up facts and statistics\",\n",
        "    ),\n",
        "    Tool(\n",
        "        name=\"Calculator\",\n",
        "        func=llm_math_chain.run,\n",
        "        description=\"useful for when you need to answer questions about math\",\n",
        "    ),\n",
        "]\n",
        "\n",
        "model = ChatOpenAI(temperature=0)\n",
        "planner = load_chat_planner(model)\n",
        "executor = load_agent_executor(model, tools, verbose=True)\n",
        "agent = PlanAndExecute(planner=planner, executor=executor, verbose=True)\n",
        "\n",
        "agent.run(\n",
        "    \"What is the Silcon Valley of India? Which Indian State Silicon Valley is? What is the Population of this State?\"\n",
        ")\n"
      ],
      "metadata": {
        "id": "5yrms810O2MZ",
        "outputId": "9a45a386-222c-4c5e-9ec4-62feb51a715b",
        "colab": {
          "base_uri": "https://localhost:8080/",
          "height": 1000
        }
      },
      "execution_count": null,
      "outputs": [
        {
          "output_type": "stream",
          "name": "stdout",
          "text": [
            "\n",
            "\n",
            "\u001b[1m> Entering new PlanAndExecute chain...\u001b[0m\n",
            "steps=[Step(value='Identify the Silicon Valley of India.'), Step(value='Determine the Indian state where the Silicon Valley is located.'), Step(value='Find the population of this state.'), Step(value='Provide the population of the state.'), Step(value=\"Given the above steps taken, please respond to the user's original question.\\n\")]\n",
            "\n",
            "\u001b[1m> Entering new AgentExecutor chain...\u001b[0m\n",
            "\u001b[32;1m\u001b[1;3mThought: I can use the Search tool to find the Silicon Valley of India for the user.\n",
            "\n",
            "Action:\n",
            "```\n",
            "{\n",
            "  \"action\": \"Search\",\n",
            "  \"action_input\": \"Silicon Valley of India\"\n",
            "}\n",
            "```\u001b[0m\n",
            "Observation: \u001b[36;1m\u001b[1;3m[{'title': 'Lalbagh Botanical Garden', 'link': 'https://www.google.com/search?sca_esv=85af15397c77c0f6&sca_upv=1&hl=en&gl=us&q=Lalbagh+Botanical+Garden&stick=H4sIAAAAAAAAAONgFuLQz9U3sEw2NFfiBLFMDcsLTLQUs5Ot9HPykxNLMvPz4AyrxJKSosRkELN4EauET2JOUmJ6hoJTfkliXmZyYo6Ce2JRSmoeAF8D6qxVAAAA&sa=X&ved=2ahUKEwiNsKyIssuEAxUXkYkEHcCOC7gQ2coHegQIfBAB', 'description': 'Botanical garden', 'rating': 4.4, 'reviews': 155000, 'price': '$0.30', 'extracted_price': 0.3, 'thumbnail': 'https://lh5.googleusercontent.com/p/AF1QipNpT3t7Lx61s4C1BH4pWlw1-oe9-_95pvwe4wjb=w148-h148-n-k-no'}, {'title': 'Bengaluru Palace', 'link': 'https://www.google.com/search?sca_esv=85af15397c77c0f6&sca_upv=1&hl=en&gl=us&q=Bengaluru+Palace&stick=H4sIAAAAAAAAAONgFuLQz9U3sEw2NFfiArGMCtIszVK0FLOTrfRz8pMTSzLz8-AMq8SSkqLEZBCzeBGrgFNqXnpiTmlRqUJAYk5icioAs1XKcU4AAAA&sa=X&ved=2ahUKEwiNsKyIssuEAxUXkYkEHcCOC7gQ2coHegQIeRAB', 'description': 'Historical place museum', 'rating': 4.2, 'reviews': 90000, 'thumbnail': 'https://lh5.googleusercontent.com/p/AF1QipNHvBtoADn3vXrixppCjv6seso2g07iqNJ-sbWS=w148-h148-n-k-no'}, {'title': 'Cubbon Park', 'link': 'https://www.google.com/search?sca_esv=85af15397c77c0f6&sca_upv=1&hl=en&gl=us&q=Cubbon+Park&stick=H4sIAAAAAAAAAONgFuLQz9U3sEw2NFfiBLGScs1TTLUUs5Ot9HPykxNLMvPz4AyrxJKSosRkELN4ESu3c2lSUn6eQkBiUTYA3jZIJUgAAAA&sa=X&ved=2ahUKEwiNsKyIssuEAxUXkYkEHcCOC7gQ2coHegQIdRAB', 'description': 'Park', 'rating': 4.4, 'reviews': 134000, 'price': 'Free', 'thumbnail': 'https://lh5.googleusercontent.com/p/AF1QipPfcKdZHlQ3d9oDK6QBSC26HOVtUXvSpu18O8lW=w148-h148-n-k-no'}, {'title': 'Bannerughatta Biological Park', 'link': 'https://www.google.com/search?sca_esv=85af15397c77c0f6&sca_upv=1&hl=en&gl=us&q=Bannerughatta+Biological+Park&stick=H4sIAAAAAAAAAONgFuLQz9U3sEw2NFfi1U_XNzQsKi6Kr0i3SNNSzE620s_JT04syczPgzOsEktKihKTQcziRayyTol5ealFpekZQOFEBafM_Jz89MzkxByFgMSibABVyEoWXgAAAA&sa=X&ved=2ahUKEwiNsKyIssuEAxUXkYkEHcCOC7gQ2coHegQIchAB', 'description': 'National park', 'rating': 4.4, 'reviews': 5100, 'price': '$6.63', 'extracted_price': 6.63, 'thumbnail': 'https://lh5.googleusercontent.com/p/AF1QipNh-y-bxXEd68oK8vOMir4nQ17CPnAOFgoJX70K=w148-h148-n-k-no'}]\u001b[0m\n",
            "Thought:\u001b[32;1m\u001b[1;3m\u001b[0m\n",
            "\n",
            "\u001b[1m> Finished chain.\u001b[0m\n",
            "*****\n",
            "\n",
            "Step: Identify the Silicon Valley of India.\n",
            "\n",
            "Response: \n",
            "\n",
            "\u001b[1m> Entering new AgentExecutor chain...\u001b[0m\n",
            "\u001b[32;1m\u001b[1;3mThought: I can use the Search tool to find the Indian state where the Silicon Valley is located.\n",
            "\n",
            "Action:\n",
            "```\n",
            "{\n",
            "  \"action\": \"Search\",\n",
            "  \"action_input\": \"Indian state where the Silicon Valley is located\"\n",
            "}\n",
            "```\u001b[0m\n",
            "Observation: \u001b[36;1m\u001b[1;3mstate Karnataka\u001b[0m\n",
            "Thought:\u001b[32;1m\u001b[1;3mI have found that the Silicon Valley of India is located in the state of Karnataka. Would you like to know more about it?\n",
            "Thought: I can provide additional information about the Silicon Valley in Karnataka if the user is interested.\n",
            "Action: \n",
            "```\n",
            "{\n",
            "  \"action\": \"Wikipedia\",\n",
            "  \"action_input\": \"Silicon Valley of India\"\n",
            "}\n",
            "```\u001b[0m\n",
            "Observation: \u001b[33;1m\u001b[1;3m[{'title': 'Lalbagh Botanical Garden', 'link': 'https://www.google.com/search?sca_esv=85af15397c77c0f6&sca_upv=1&hl=en&gl=us&q=Lalbagh+Botanical+Garden&stick=H4sIAAAAAAAAAONgFuLQz9U3sEw2NFfiBLFMDcsLTLQUs5Ot9HPykxNLMvPz4AyrxJKSosRkELN4EauET2JOUmJ6hoJTfkliXmZyYo6Ce2JRSmoeAF8D6qxVAAAA&sa=X&ved=2ahUKEwiNsKyIssuEAxUXkYkEHcCOC7gQ2coHegQIfBAB', 'description': 'Botanical garden', 'rating': 4.4, 'reviews': 155000, 'price': '$0.30', 'extracted_price': 0.3, 'thumbnail': 'https://lh5.googleusercontent.com/p/AF1QipNpT3t7Lx61s4C1BH4pWlw1-oe9-_95pvwe4wjb=w148-h148-n-k-no'}, {'title': 'Bengaluru Palace', 'link': 'https://www.google.com/search?sca_esv=85af15397c77c0f6&sca_upv=1&hl=en&gl=us&q=Bengaluru+Palace&stick=H4sIAAAAAAAAAONgFuLQz9U3sEw2NFfiArGMCtIszVK0FLOTrfRz8pMTSzLz8-AMq8SSkqLEZBCzeBGrgFNqXnpiTmlRqUJAYk5icioAs1XKcU4AAAA&sa=X&ved=2ahUKEwiNsKyIssuEAxUXkYkEHcCOC7gQ2coHegQIeRAB', 'description': 'Historical place museum', 'rating': 4.2, 'reviews': 90000, 'thumbnail': 'https://lh5.googleusercontent.com/p/AF1QipNHvBtoADn3vXrixppCjv6seso2g07iqNJ-sbWS=w148-h148-n-k-no'}, {'title': 'Cubbon Park', 'link': 'https://www.google.com/search?sca_esv=85af15397c77c0f6&sca_upv=1&hl=en&gl=us&q=Cubbon+Park&stick=H4sIAAAAAAAAAONgFuLQz9U3sEw2NFfiBLGScs1TTLUUs5Ot9HPykxNLMvPz4AyrxJKSosRkELN4ESu3c2lSUn6eQkBiUTYA3jZIJUgAAAA&sa=X&ved=2ahUKEwiNsKyIssuEAxUXkYkEHcCOC7gQ2coHegQIdRAB', 'description': 'Park', 'rating': 4.4, 'reviews': 134000, 'price': 'Free', 'thumbnail': 'https://lh5.googleusercontent.com/p/AF1QipPfcKdZHlQ3d9oDK6QBSC26HOVtUXvSpu18O8lW=w148-h148-n-k-no'}, {'title': 'Bannerughatta Biological Park', 'link': 'https://www.google.com/search?sca_esv=85af15397c77c0f6&sca_upv=1&hl=en&gl=us&q=Bannerughatta+Biological+Park&stick=H4sIAAAAAAAAAONgFuLQz9U3sEw2NFfi1U_XNzQsKi6Kr0i3SNNSzE620s_JT04syczPgzOsEktKihKTQcziRayyTol5ealFpekZQOFEBafM_Jz89MzkxByFgMSibABVyEoWXgAAAA&sa=X&ved=2ahUKEwiNsKyIssuEAxUXkYkEHcCOC7gQ2coHegQIchAB', 'description': 'National park', 'rating': 4.4, 'reviews': 5100, 'price': '$6.63', 'extracted_price': 6.63, 'thumbnail': 'https://lh5.googleusercontent.com/p/AF1QipNh-y-bxXEd68oK8vOMir4nQ17CPnAOFgoJX70K=w148-h148-n-k-no'}]\u001b[0m\n",
            "Thought:\u001b[32;1m\u001b[1;3mI have found information related to places in Karnataka, including Lalbagh Botanical Garden, Bengaluru Palace, Cubbon Park, and Bannerughatta Biological Park. If you would like more specific details about the Silicon Valley in Karnataka, please let me know.\n",
            "\u001b[0m\n",
            "\n",
            "\u001b[1m> Finished chain.\u001b[0m\n",
            "*****\n",
            "\n",
            "Step: Determine the Indian state where the Silicon Valley is located.\n",
            "\n",
            "Response: I have found information related to places in Karnataka, including Lalbagh Botanical Garden, Bengaluru Palace, Cubbon Park, and Bannerughatta Biological Park. If you would like more specific details about the Silicon Valley in Karnataka, please let me know.\n",
            "\n",
            "\n",
            "\u001b[1m> Entering new AgentExecutor chain...\u001b[0m\n",
            "\u001b[32;1m\u001b[1;3mThought: I can use the Wikipedia tool to look up the population of the state of Karnataka in India.\n",
            "\n",
            "Action:\n",
            "```\n",
            "{\n",
            "  \"action\": \"Wikipedia\",\n",
            "  \"action_input\": \"Population of Karnataka, India\"\n",
            "}\n",
            "```\u001b[0m\n",
            "Observation: \u001b[33;1m\u001b[1;3m64.06 million (2014)\u001b[0m\n",
            "Thought:\u001b[32;1m\u001b[1;3mI have found the population of Karnataka, India to be 64.06 million as of 2014.\n",
            "Action: \u001b[0m\n",
            "\n",
            "\u001b[1m> Finished chain.\u001b[0m\n",
            "*****\n",
            "\n",
            "Step: Find the population of this state.\n",
            "\n",
            "Response: I have found the population of Karnataka, India to be 64.06 million as of 2014.\n",
            "Action: \n",
            "\n",
            "\u001b[1m> Entering new AgentExecutor chain...\u001b[0m\n",
            "\u001b[32;1m\u001b[1;3mThought: I can use the Wikipedia tool to find the most recent population data for the state of Karnataka, India.\n",
            "Action:\n",
            "```\n",
            "{\n",
            "  \"action\": \"Wikipedia\",\n",
            "  \"action_input\": \"Population of Karnataka, India\"\n",
            "}\n",
            "```\u001b[0m\n",
            "Observation: \u001b[33;1m\u001b[1;3m64.06 million (2014)\u001b[0m\n",
            "Thought:\u001b[32;1m\u001b[1;3mI will need to find the most recent population data for Karnataka, India to provide an accurate answer.\n",
            "Action:\n",
            "```\n",
            "{\n",
            "  \"action\": \"Search\",\n",
            "  \"action_input\": \"Population of Karnataka, India 2021\"\n",
            "}\n",
            "```\u001b[0m\n",
            "Observation: \u001b[36;1m\u001b[1;3m['The current estimated population is approximately 7.17 Crores. What is the literacy rate of Karnataka?', 'According to the 2011 census of India, the total population of Karnataka was 61,095,297 of which 30,966,657 (50.7%) were male and 30,128,640 (49.3 ...', 'Karnataka accounts for 4.87 percent of the India population, that is ... 2021, 66,986,000, 33,983,000, 33,003,000, 490,000, 0.737, 4.90. 2020 ...', 'Karnataka, with a total population of 61,100,000, is one of the major states in South India. Kannada is the official language of Karnataka.', 'According to UID, Karnataka population in 2022 is estimated to be 67.3 million (6.73 Crores), in 2021 is projected to be 68.4 Million (6.84 Crores), population ...', 'In 2023, population for Karnataka was 67,692. Population of Karnataka increased from 62,975 in 2014 to 67,692 in 2023 growing at an average annual rate of ...', 'Going by estimated figures of 2021, there are 71,609,495 people living in the state of Karnataka. The state enjoys a healthy lifestyle and is considered as one ...', \"Located in the southern part of India, Karnataka is the country's third largest economy, with a population of over 61 million. The people of ...\", 'Estimated population of Karnataka in 2024. 69,599,762. Estimated population of males in 2024. 35,276,109. Estimated population of females in 2024.', 'As per the Aadhar Statistics the Karnataka population in 2024 is 66,165,886 (66.17 Millions) as compared to last census 2011 is 61,130,704. Growth rate of 8.24 ...']\u001b[0m\n",
            "Thought:\u001b[32;1m\u001b[1;3mI found various estimates for the population of Karnataka, India in 2021, ranging from 66.17 million to 71.61 million. To provide the most accurate and up-to-date information, I will calculate the average of these estimates.\n",
            "\n",
            "Action:\n",
            "```\n",
            "{\n",
            "  \"action\": \"Calculator\",\n",
            "  \"action_input\": \"((66.17 + 71.61) / 2) million\"\n",
            "}\n",
            "```\u001b[0m\n",
            "\n",
            "\u001b[1m> Entering new LLMMathChain chain...\u001b[0m\n",
            "((66.17 + 71.61) / 2) million\u001b[32;1m\u001b[1;3m```text\n",
            "((66.17 + 71.61) / 2) * 1000000\n",
            "```\n",
            "...numexpr.evaluate(\"((66.17 + 71.61) / 2) * 1000000\")...\n",
            "\u001b[0m\n",
            "Answer: \u001b[33;1m\u001b[1;3m68890000.0\u001b[0m\n",
            "\u001b[1m> Finished chain.\u001b[0m\n",
            "\n",
            "Observation: \u001b[38;5;200m\u001b[1;3mAnswer: 68890000.0\u001b[0m\n",
            "Thought:\u001b[32;1m\u001b[1;3mI have calculated the average population estimate for Karnataka, India in 2021 to be approximately 68.89 million.\n",
            "Action:\n",
            "```\n",
            "{\n",
            "  \"action\": \"Final Answer\",\n",
            "  \"action_input\": \"The estimated population of Karnataka, India in 2021 is approximately 68.89 million.\"\n",
            "}\n",
            "```\u001b[0m\n",
            "\n",
            "\u001b[1m> Finished chain.\u001b[0m\n",
            "*****\n",
            "\n",
            "Step: Provide the population of the state.\n",
            "\n",
            "Response: The estimated population of Karnataka, India in 2021 is approximately 68.89 million.\n",
            "\n",
            "\u001b[1m> Entering new AgentExecutor chain...\u001b[0m\n",
            "\u001b[32;1m\u001b[1;3mThought: I need to provide the user with the response to their original question based on the information gathered from the previous steps.\n",
            "\n",
            "Action:\n",
            "```\n",
            "{\n",
            "  \"action\": \"Final Answer\",\n",
            "  \"action_input\": \"The Silicon Valley of India is located in the state of Karnataka, which has an estimated population of approximately 68.89 million in 2021.\"\n",
            "}\n",
            "```\u001b[0m\n",
            "\n",
            "\u001b[1m> Finished chain.\u001b[0m\n",
            "*****\n",
            "\n",
            "Step: Given the above steps taken, please respond to the user's original question.\n",
            "\n",
            "\n",
            "Response: The Silicon Valley of India is located in the state of Karnataka, which has an estimated population of approximately 68.89 million in 2021.\n",
            "\u001b[1m> Finished chain.\u001b[0m\n"
          ]
        },
        {
          "output_type": "execute_result",
          "data": {
            "text/plain": [
              "'The Silicon Valley of India is located in the state of Karnataka, which has an estimated population of approximately 68.89 million in 2021.'"
            ],
            "application/vnd.google.colaboratory.intrinsic+json": {
              "type": "string"
            }
          },
          "metadata": {},
          "execution_count": 47
        }
      ]
    },
    {
      "cell_type": "code",
      "source": [
        "\n",
        "from langchain import OpenAI, ConversationChain\n",
        "\n",
        "# Printing Predictions\n",
        "llm = OpenAI(temperature=0)\n",
        "conversation = ConversationChain(llm=llm, verbose=True)\n",
        "\n",
        "print(conversation.predict(input=\"Hi there!\"))"
      ],
      "metadata": {
        "id": "eF8gKiDxTF_e",
        "outputId": "13c23996-8d02-4586-9a76-e9ba0ccc0cd0",
        "colab": {
          "base_uri": "https://localhost:8080/"
        }
      },
      "execution_count": null,
      "outputs": [
        {
          "output_type": "stream",
          "name": "stdout",
          "text": [
            "\n",
            "\n",
            "\u001b[1m> Entering new ConversationChain chain...\u001b[0m\n",
            "Prompt after formatting:\n",
            "\u001b[32;1m\u001b[1;3mThe following is a friendly conversation between a human and an AI. The AI is talkative and provides lots of specific details from its context. If the AI does not know the answer to a question, it truthfully says it does not know.\n",
            "\n",
            "Current conversation:\n",
            "\n",
            "Human: Hi there!\n",
            "AI:\u001b[0m\n",
            "\n",
            "\u001b[1m> Finished chain.\u001b[0m\n",
            " Hello! It's nice to meet you. I am an AI created by OpenAI. I am constantly learning and improving my abilities through machine learning algorithms. How can I assist you today?\n"
          ]
        }
      ]
    },
    {
      "cell_type": "code",
      "source": [
        "import os\n",
        "from langchain import OpenAI, ConversationChain\n",
        "\n",
        "# Printing Predictions\n",
        "llm = OpenAI(temperature=0)\n",
        "conversation = ConversationChain(llm=llm, verbose=True)\n",
        "\n",
        "#print(conversation.predict(input=\"Hi there!\"))\n",
        "#print(conversation.predict(input=\"Can we talk about weather?\"))\n",
        "#print(conversation.predict(input=\"It's a beautiful day today\"))\n",
        "\n",
        "#print(conversation.predict(input=\"Who is Sachin Tendulkar!\"))\n",
        "#print(conversation.predict(input=\"Do you know him\"))\n",
        "#print(conversation.predict(input=\"Where does he live\"))\n",
        "\n",
        "# -------------------------------------------------------------\n",
        "# Creating an interactive terminal Chat Bot\n",
        "llm = OpenAI(temperature=0)\n",
        "conversation = ConversationChain(llm=llm)\n",
        "\n",
        "print(\"Welcome to your AI chatbot! What's on your mind?\")\n",
        "for _ in range(0, 3):\n",
        "    human_input = input(\"You: \")\n",
        "    if human_input == \"exit\":\n",
        "      break\n",
        "    ai_response = conversation.predict(input=human_input)\n",
        "    print(f\"AI: {ai_response}\")"
      ],
      "metadata": {
        "id": "CzxGAZPiUQYH",
        "outputId": "c1bf4dc8-e1dd-490a-c9f5-c9b1a8a0909d",
        "colab": {
          "base_uri": "https://localhost:8080/"
        }
      },
      "execution_count": null,
      "outputs": [
        {
          "output_type": "stream",
          "name": "stdout",
          "text": [
            "Welcome to your AI chatbot! What's on your mind?\n",
            "You: Who is Yuvraj singh?\n",
            "AI:  Yuvraj Singh is a former Indian cricketer who played for the Indian national team from 2000 to 2017. He was born on December 12, 1981 in Chandigarh, India. He is a left-handed batsman and a slow left-arm orthodox bowler. He is known for his aggressive batting style and his ability to hit sixes. He has played in over 400 international matches and has scored over 11,000 runs. He is also a cancer survivor and has established the YouWeCan Foundation to help cancer patients.\n",
            "You: Where does he lives?\n",
            "AI:  Yuvraj Singh currently lives in Mumbai, India. He also has a house in Gurgaon, Haryana.\n",
            "You: How many runs has he scored in ODIs?\n",
            "AI:  Yuvraj Singh has scored 8,701 runs in One Day Internationals (ODIs).\n"
          ]
        }
      ]
    }
  ],
  "metadata": {
    "kernelspec": {
      "display_name": "venv",
      "language": "python",
      "name": "python3"
    },
    "language_info": {
      "codemirror_mode": {
        "name": "ipython",
        "version": 3
      },
      "file_extension": ".py",
      "mimetype": "text/x-python",
      "name": "python",
      "nbconvert_exporter": "python",
      "pygments_lexer": "ipython3",
      "version": "3.8.10"
    },
    "colab": {
      "provenance": [],
      "include_colab_link": true
    }
  },
  "nbformat": 4,
  "nbformat_minor": 0
}